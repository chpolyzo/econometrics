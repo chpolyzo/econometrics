{
 "cells": [
  {
   "cell_type": "code",
   "execution_count": 17,
   "id": "724bac22-4c34-4e53-8593-c363ee90735d",
   "metadata": {},
   "outputs": [],
   "source": [
    "import pystata"
   ]
  },
  {
   "cell_type": "code",
   "execution_count": 18,
   "id": "51155801-8711-49d7-a3bc-52349313f62e",
   "metadata": {},
   "outputs": [],
   "source": [
    "import sys\n"
   ]
  },
  {
   "cell_type": "code",
   "execution_count": 19,
   "id": "57067626-0ea0-4b2f-be6f-bcc3c1e67e79",
   "metadata": {},
   "outputs": [],
   "source": [
    "sys.path.append(r'C:\\Program Files\\Stata18\\utilities')"
   ]
  },
  {
   "cell_type": "code",
   "execution_count": 20,
   "id": "152488ba-40f5-4bde-bb4a-de9b3e5168b6",
   "metadata": {},
   "outputs": [],
   "source": [
    "config.init('be')"
   ]
  },
  {
   "cell_type": "code",
   "execution_count": null,
   "id": "3f0c3965-f826-48fc-bab1-084e9e620727",
   "metadata": {},
   "outputs": [],
   "source": []
  }
 ],
 "metadata": {
  "kernelspec": {
   "display_name": "Python 3 (ipykernel)",
   "language": "python",
   "name": "python3"
  },
  "language_info": {
   "codemirror_mode": {
    "name": "ipython",
    "version": 3
   },
   "file_extension": ".py",
   "mimetype": "text/x-python",
   "name": "python",
   "nbconvert_exporter": "python",
   "pygments_lexer": "ipython3",
   "version": "3.13.2"
  }
 },
 "nbformat": 4,
 "nbformat_minor": 5
}
