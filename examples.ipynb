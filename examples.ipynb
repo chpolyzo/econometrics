{
 "cells": [
  {
   "cell_type": "code",
   "execution_count": 1,
   "id": "1201ebda-90f3-4027-9317-ccbcc915b8eb",
   "metadata": {},
   "outputs": [
    {
     "name": "stdout",
     "output_type": "stream",
     "text": [
      "\n",
      "  ___  ____  ____  ____  ____ ®\n",
      " /__    /   ____/   /   ____/      18.0\n",
      "___/   /   /___/   /   /___/       BE—Basic Edition\n",
      "\n",
      " Statistics and Data Science       Copyright 1985-2023 StataCorp LLC\n",
      "                                   StataCorp\n",
      "                                   4905 Lakeway Drive\n",
      "                                   College Station, Texas 77845 USA\n",
      "                                   800-STATA-PC        https://www.stata.com\n",
      "                                   979-696-4600        stata@stata.com\n",
      "\n",
      "Stata license: Unlimited-user network, expiring  4 May 2025\n",
      "Serial number: 501809301547\n",
      "  Licensed to: Chrysanthi Polyzoni\n",
      "               Università Milano Bicocca\n",
      "\n",
      "Notes:\n",
      "      1. Unicode is supported; see help unicode_advice.\n"
     ]
    }
   ],
   "source": [
    "import stata_setup\n",
    "stata_setup.config(\"C:/Program Files/Stata18\", 'be') # Path to the STATA executable"
   ]
  },
  {
   "cell_type": "code",
   "execution_count": 16,
   "id": "79324364-801d-4324-8025-be6a027c8e5d",
   "metadata": {},
   "outputs": [
    {
     "name": "stdout",
     "output_type": "stream",
     "text": [
      "\n",
      ". use Wooldridge/CEOSAL1\n",
      "\n",
      ". summarize\n",
      "\n",
      "    Variable |        Obs        Mean    Std. dev.       Min        Max\n",
      "-------------+---------------------------------------------------------\n",
      "      salary |        209     1281.12    1372.345        223      14822\n",
      "    pcsalary |        209     13.2823    32.63392        -61        212\n",
      "       sales |        209    6923.793    10633.27      175.2    97649.9\n",
      "         roe |        209    17.18421    8.518509         .5       56.3\n",
      "       pcroe |        209    10.80048     97.2194      -98.9        977\n",
      "-------------+---------------------------------------------------------\n",
      "         ros |        209    61.80383    68.17705        -58        418\n",
      "       indus |        209    .3205742    .4678178          0          1\n",
      "     finance |        209    .2200957    .4153057          0          1\n",
      "    consprod |        209    .2870813    .4534861          0          1\n",
      "     utility |        209    .1722488    .3785031          0          1\n",
      "-------------+---------------------------------------------------------\n",
      "     lsalary |        209    6.950386    .5663741   5.407172   9.603868\n",
      "      lsales |        209    8.292265    1.013161   5.165928   11.48914\n",
      "\n",
      ". \n"
     ]
    }
   ],
   "source": [
    "%%stata\n",
    "use Wooldridge/CEOSAL1\n",
    "summarize"
   ]
  },
  {
   "cell_type": "code",
   "execution_count": null,
   "id": "1ac84860-3bc6-4b0d-b2e8-9da028fdc770",
   "metadata": {},
   "outputs": [],
   "source": []
  }
 ],
 "metadata": {
  "kernelspec": {
   "display_name": "Python 3 (ipykernel)",
   "language": "python",
   "name": "python3"
  },
  "language_info": {
   "codemirror_mode": {
    "name": "ipython",
    "version": 3
   },
   "file_extension": ".py",
   "mimetype": "text/x-python",
   "name": "python",
   "nbconvert_exporter": "python",
   "pygments_lexer": "ipython3",
   "version": "3.13.2"
  }
 },
 "nbformat": 4,
 "nbformat_minor": 5
}
