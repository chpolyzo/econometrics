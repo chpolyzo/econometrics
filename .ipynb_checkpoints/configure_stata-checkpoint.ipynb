{
 "cells": [
  {
   "cell_type": "code",
   "execution_count": 2,
   "id": "724bac22-4c34-4e53-8593-c363ee90735d",
   "metadata": {},
   "outputs": [],
   "source": [
    "import sys\n",
    "import stata_setup\n",
    "sys.path.append(r'C:\\Program Files\\Stata18\\utilities')"
   ]
  },
  {
   "cell_type": "code",
   "execution_count": null,
   "id": "3f0c3965-f826-48fc-bab1-084e9e620727",
   "metadata": {},
   "outputs": [],
   "source": [
    "import pystata\n",
    "stata_setup.config(\"C:/Program Files/Stata18\", 'be') # Path to the STATA executable"
   ]
  }
 ],
 "metadata": {
  "kernelspec": {
   "display_name": "Python 3 (ipykernel)",
   "language": "python",
   "name": "python3"
  },
  "language_info": {
   "codemirror_mode": {
    "name": "ipython",
    "version": 3
   },
   "file_extension": ".py",
   "mimetype": "text/x-python",
   "name": "python",
   "nbconvert_exporter": "python",
   "pygments_lexer": "ipython3",
   "version": "3.13.2"
  }
 },
 "nbformat": 4,
 "nbformat_minor": 5
}
