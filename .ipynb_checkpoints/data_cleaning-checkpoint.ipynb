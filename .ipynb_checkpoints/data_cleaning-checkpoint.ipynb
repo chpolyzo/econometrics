{
 "cells": [
  {
   "cell_type": "code",
   "execution_count": 1,
   "id": "ac00e604-900c-4ffa-ad34-198974887cff",
   "metadata": {},
   "outputs": [
    {
     "name": "stdout",
     "output_type": "stream",
     "text": [
      "\n",
      "  ___  ____  ____  ____  ____ ®\n",
      " /__    /   ____/   /   ____/      18.0\n",
      "___/   /   /___/   /   /___/       BE—Basic Edition\n",
      "\n",
      " Statistics and Data Science       Copyright 1985-2023 StataCorp LLC\n",
      "                                   StataCorp\n",
      "                                   4905 Lakeway Drive\n",
      "                                   College Station, Texas 77845 USA\n",
      "                                   800-STATA-PC        https://www.stata.com\n",
      "                                   979-696-4600        stata@stata.com\n",
      "\n",
      "Stata license: Unlimited-user network, expiring  4 May 2025\n",
      "Serial number: 501809301547\n",
      "  Licensed to: Chrysanthi Polyzoni\n",
      "               Università Milano Bicocca\n",
      "\n",
      "Notes:\n",
      "      1. Unicode is supported; see help unicode_advice.\n"
     ]
    }
   ],
   "source": [
    "# import necessary libraries\n",
    "import os\n",
    "import sklearn as scikit_learn\n",
    "import pandas as pd\n",
    "import matplotlib.pyplot as plt\n",
    "import stata_setup\n",
    "stata_setup.config(\"C:/Program Files/Stata18\", 'be') # Path to the STATA executable\n",
    "from pystata import stata\n",
    "import statsmodels.formula.api as sm"
   ]
  },
  {
   "cell_type": "code",
   "execution_count": 2,
   "id": "a5056764-0598-45b4-96aa-59f25b2ae92d",
   "metadata": {},
   "outputs": [
    {
     "name": "stdout",
     "output_type": "stream",
     "text": [
      "The current working directory is: C:\\Users\\chpol\\Documents\\Stata\\econometrics\n"
     ]
    }
   ],
   "source": [
    "# Get the current working directory\n",
    "current_directory = os.getcwd()\n",
    "print(f\"The current working directory is: {current_directory}\")"
   ]
  },
  {
   "cell_type": "code",
   "execution_count": 3,
   "id": "84c5a388-b4e5-44fe-afae-bdc632ddae5a",
   "metadata": {},
   "outputs": [],
   "source": [
    "# read and transpose data from existing file\n",
    "df = pd.read_csv('raw_data.csv').T"
   ]
  },
  {
   "cell_type": "code",
   "execution_count": 4,
   "id": "41e9d8f9-3dc2-460a-b386-36c59fd5467f",
   "metadata": {},
   "outputs": [],
   "source": [
    "# set column names\n",
    "df.columns = ['SOVGDE', 'SNETD', 'SNPTD', 'SUVGD', 'RUWCD', 'RUYNH', 'RUIGT',\n",
    "       'ROKND', 'RPDNN']"
   ]
  },
  {
   "cell_type": "code",
   "execution_count": 5,
   "id": "d1413aed-03b8-4dd6-83a0-5c0d4a31f726",
   "metadata": {},
   "outputs": [
    {
     "data": {
      "text/plain": [
       "Index(['SOVGDE', 'SNETD', 'SNPTD', 'SUVGD', 'RUWCD', 'RUYNH', 'RUIGT', 'ROKND',\n",
       "       'RPDNN'],\n",
       "      dtype='object')"
      ]
     },
     "execution_count": 5,
     "metadata": {},
     "output_type": "execute_result"
    }
   ],
   "source": [
    "# check column names\n",
    "df.columns"
   ]
  },
  {
   "cell_type": "code",
   "execution_count": 6,
   "id": "3517e767-6cdb-4f38-a4ca-6a03e86afcfa",
   "metadata": {},
   "outputs": [
    {
     "data": {
      "text/html": [
       "<div>\n",
       "<style scoped>\n",
       "    .dataframe tbody tr th:only-of-type {\n",
       "        vertical-align: middle;\n",
       "    }\n",
       "\n",
       "    .dataframe tbody tr th {\n",
       "        vertical-align: top;\n",
       "    }\n",
       "\n",
       "    .dataframe thead th {\n",
       "        text-align: right;\n",
       "    }\n",
       "</style>\n",
       "<table border=\"1\" class=\"dataframe\">\n",
       "  <thead>\n",
       "    <tr style=\"text-align: right;\">\n",
       "      <th></th>\n",
       "      <th>SOVGDE</th>\n",
       "      <th>SNETD</th>\n",
       "      <th>SNPTD</th>\n",
       "      <th>SUVGD</th>\n",
       "      <th>RUWCD</th>\n",
       "      <th>RUYNH</th>\n",
       "      <th>RUIGT</th>\n",
       "      <th>ROKND</th>\n",
       "      <th>RPDNN</th>\n",
       "    </tr>\n",
       "  </thead>\n",
       "  <tbody>\n",
       "    <tr>\n",
       "      <th>Unnamed: 1</th>\n",
       "      <td>Real labour productivity per person employed</td>\n",
       "      <td>Total Employment (workplace based, employed pe...</td>\n",
       "      <td>Average annual population</td>\n",
       "      <td>\\tGDP at current market prices</td>\n",
       "      <td>Compensation of employees at current prices</td>\n",
       "      <td>Current taxes on income and wealth</td>\n",
       "      <td>Gross Fixed Capital Formation at current prices</td>\n",
       "      <td>Capital Stock at constant prices</td>\n",
       "      <td>Early leavers from education and training</td>\n",
       "    </tr>\n",
       "  </tbody>\n",
       "</table>\n",
       "</div>"
      ],
      "text/plain": [
       "                                                  SOVGDE  \\\n",
       "Unnamed: 1  Real labour productivity per person employed   \n",
       "\n",
       "                                                        SNETD  \\\n",
       "Unnamed: 1  Total Employment (workplace based, employed pe...   \n",
       "\n",
       "                                SNPTD                           SUVGD  \\\n",
       "Unnamed: 1  Average annual population  \\tGDP at current market prices   \n",
       "\n",
       "                                                  RUWCD  \\\n",
       "Unnamed: 1  Compensation of employees at current prices   \n",
       "\n",
       "                                         RUYNH  \\\n",
       "Unnamed: 1  Current taxes on income and wealth   \n",
       "\n",
       "                                                      RUIGT  \\\n",
       "Unnamed: 1  Gross Fixed Capital Formation at current prices   \n",
       "\n",
       "                                       ROKND  \\\n",
       "Unnamed: 1  Capital Stock at constant prices   \n",
       "\n",
       "                                                RPDNN  \n",
       "Unnamed: 1  Early leavers from education and training  "
      ]
     },
     "execution_count": 6,
     "metadata": {},
     "output_type": "execute_result"
    }
   ],
   "source": [
    "# explore first line which explains variables\n",
    "df[df.index == 'Unnamed: 1']"
   ]
  },
  {
   "cell_type": "code",
   "execution_count": 7,
   "id": "12fc85ab-d4fd-4936-840f-460433e3e608",
   "metadata": {},
   "outputs": [
    {
     "data": {
      "text/plain": [
       "'\\tGDP at current market prices'"
      ]
     },
     "execution_count": 7,
     "metadata": {},
     "output_type": "execute_result"
    }
   ],
   "source": [
    "# Check further SUVDG variable name explanation\n",
    "df[df.index == 'Unnamed: 1']._get_value('Unnamed: 1', 'SUVGD')\n"
   ]
  },
  {
   "cell_type": "code",
   "execution_count": 8,
   "id": "894cc78c-7f21-44f8-871b-48c975f82e19",
   "metadata": {},
   "outputs": [],
   "source": [
    "# replace SUVDG variable name explanation and create a new dataframe namely variables_df holding variable information\n",
    "variables_df = df[df.index == 'Unnamed: 1'].replace('\\tGDP at current market prices', 'GDP at current market prices')"
   ]
  },
  {
   "cell_type": "code",
   "execution_count": 9,
   "id": "0e7fc0eb-fa22-4b7c-8b90-9517f3090094",
   "metadata": {},
   "outputs": [
    {
     "data": {
      "text/html": [
       "<div>\n",
       "<style scoped>\n",
       "    .dataframe tbody tr th:only-of-type {\n",
       "        vertical-align: middle;\n",
       "    }\n",
       "\n",
       "    .dataframe tbody tr th {\n",
       "        vertical-align: top;\n",
       "    }\n",
       "\n",
       "    .dataframe thead th {\n",
       "        text-align: right;\n",
       "    }\n",
       "</style>\n",
       "<table border=\"1\" class=\"dataframe\">\n",
       "  <thead>\n",
       "    <tr style=\"text-align: right;\">\n",
       "      <th></th>\n",
       "      <th>SOVGDE</th>\n",
       "      <th>SNETD</th>\n",
       "      <th>SNPTD</th>\n",
       "      <th>SUVGD</th>\n",
       "      <th>RUWCD</th>\n",
       "      <th>RUYNH</th>\n",
       "      <th>RUIGT</th>\n",
       "      <th>ROKND</th>\n",
       "      <th>RPDNN</th>\n",
       "    </tr>\n",
       "  </thead>\n",
       "  <tbody>\n",
       "    <tr>\n",
       "      <th>Unnamed: 1</th>\n",
       "      <td>Real labour productivity per person employed</td>\n",
       "      <td>Total Employment (workplace based, employed pe...</td>\n",
       "      <td>Average annual population</td>\n",
       "      <td>GDP at current market prices</td>\n",
       "      <td>Compensation of employees at current prices</td>\n",
       "      <td>Current taxes on income and wealth</td>\n",
       "      <td>Gross Fixed Capital Formation at current prices</td>\n",
       "      <td>Capital Stock at constant prices</td>\n",
       "      <td>Early leavers from education and training</td>\n",
       "    </tr>\n",
       "  </tbody>\n",
       "</table>\n",
       "</div>"
      ],
      "text/plain": [
       "                                                  SOVGDE  \\\n",
       "Unnamed: 1  Real labour productivity per person employed   \n",
       "\n",
       "                                                        SNETD  \\\n",
       "Unnamed: 1  Total Employment (workplace based, employed pe...   \n",
       "\n",
       "                                SNPTD                         SUVGD  \\\n",
       "Unnamed: 1  Average annual population  GDP at current market prices   \n",
       "\n",
       "                                                  RUWCD  \\\n",
       "Unnamed: 1  Compensation of employees at current prices   \n",
       "\n",
       "                                         RUYNH  \\\n",
       "Unnamed: 1  Current taxes on income and wealth   \n",
       "\n",
       "                                                      RUIGT  \\\n",
       "Unnamed: 1  Gross Fixed Capital Formation at current prices   \n",
       "\n",
       "                                       ROKND  \\\n",
       "Unnamed: 1  Capital Stock at constant prices   \n",
       "\n",
       "                                                RPDNN  \n",
       "Unnamed: 1  Early leavers from education and training  "
      ]
     },
     "execution_count": 9,
     "metadata": {},
     "output_type": "execute_result"
    }
   ],
   "source": [
    "# check variables_df\n",
    "variables_df"
   ]
  },
  {
   "cell_type": "code",
   "execution_count": 10,
   "id": "7fb229bd-3fde-417f-8722-7d9d6448c6b4",
   "metadata": {},
   "outputs": [
    {
     "name": "stdout",
     "output_type": "stream",
     "text": [
      "Index(['SOVGDE', 'SNETD', 'SNPTD', 'SUVGD', 'RUWCD', 'RUYNH', 'RUIGT', 'ROKND',\n",
      "       'RPDNN'],\n",
      "      dtype='object')\n",
      "[['Real labour productivity per person employed'\n",
      "  'Total Employment (workplace based, employed persons)'\n",
      "  'Average annual population' 'GDP at current market prices'\n",
      "  'Compensation of employees at current prices'\n",
      "  'Current taxes on income and wealth'\n",
      "  'Gross Fixed Capital Formation at current prices'\n",
      "  'Capital Stock at constant prices'\n",
      "  'Early leavers from education and training']]\n"
     ]
    }
   ],
   "source": [
    "# checking columns and values\n",
    "print(variables_df.columns) # columns\n",
    "print(variables_df[variables_df.index == 'Unnamed: 1'].values) # values"
   ]
  },
  {
   "cell_type": "code",
   "execution_count": 11,
   "id": "dd1ddd6b-12d1-4147-bb2a-1bbc48a39bcd",
   "metadata": {},
   "outputs": [
    {
     "data": {
      "text/plain": [
       "array(['Real labour productivity per person employed',\n",
       "       'Total Employment (workplace based, employed persons)',\n",
       "       'Average annual population', 'GDP at current market prices',\n",
       "       'Compensation of employees at current prices',\n",
       "       'Current taxes on income and wealth',\n",
       "       'Gross Fixed Capital Formation at current prices',\n",
       "       'Capital Stock at constant prices',\n",
       "       'Early leavers from education and training'], dtype=object)"
      ]
     },
     "execution_count": 11,
     "metadata": {},
     "output_type": "execute_result"
    }
   ],
   "source": [
    "# extracting values\n",
    "variables_df[variables_df.index == 'Unnamed: 1'].values[0]"
   ]
  },
  {
   "cell_type": "code",
   "execution_count": 12,
   "id": "2ca26856-36d9-4fb4-818f-659495e20649",
   "metadata": {},
   "outputs": [],
   "source": [
    "# create a variables explanatory dictionary\n",
    "variables_dict = {k:v for (k, v) in zip(variables_df.columns, variables_df[variables_df.index == 'Unnamed: 1'].values[0])}"
   ]
  },
  {
   "cell_type": "code",
   "execution_count": 13,
   "id": "0262a240-5ac5-4268-ab41-347e3a51a6d9",
   "metadata": {},
   "outputs": [
    {
     "data": {
      "text/plain": [
       "{'SOVGDE': 'Real labour productivity per person employed',\n",
       " 'SNETD': 'Total Employment (workplace based, employed persons)',\n",
       " 'SNPTD': 'Average annual population',\n",
       " 'SUVGD': 'GDP at current market prices',\n",
       " 'RUWCD': 'Compensation of employees at current prices',\n",
       " 'RUYNH': 'Current taxes on income and wealth',\n",
       " 'RUIGT': 'Gross Fixed Capital Formation at current prices',\n",
       " 'ROKND': 'Capital Stock at constant prices',\n",
       " 'RPDNN': 'Early leavers from education and training'}"
      ]
     },
     "execution_count": 13,
     "metadata": {},
     "output_type": "execute_result"
    }
   ],
   "source": [
    "# check variables dictionary\n",
    "variables_dict"
   ]
  },
  {
   "cell_type": "code",
   "execution_count": 14,
   "id": "46983c74-6630-44cc-848b-8b971fca6b99",
   "metadata": {},
   "outputs": [
    {
     "data": {
      "text/plain": [
       "['Real labour productivity per person employed',\n",
       " 'Total Employment (workplace based, employed persons)',\n",
       " 'Average annual population',\n",
       " 'GDP at current market prices',\n",
       " 'Compensation of employees at current prices',\n",
       " 'Current taxes on income and wealth',\n",
       " 'Gross Fixed Capital Formation at current prices',\n",
       " 'Capital Stock at constant prices',\n",
       " 'Early leavers from education and training']"
      ]
     },
     "execution_count": 14,
     "metadata": {},
     "output_type": "execute_result"
    }
   ],
   "source": [
    "list(variables_dict.values())"
   ]
  },
  {
   "cell_type": "code",
   "execution_count": 15,
   "id": "d9831b6e-fa0e-439e-ad2b-027ccb43d2a3",
   "metadata": {},
   "outputs": [],
   "source": [
    "def make_readable_stings(variables_dict):\n",
    "    \"\"\"\n",
    "    Processes a dictionary of string values and returns a list of strings transformed into camelCase format.\n",
    "    - Capitalizes the first letter of each word in the string.\n",
    "    - Removes spaces, parentheses, and commas.\n",
    "    - Converts the first character of the resulting string to lowercase, ensuring it follows camelCase conventions.\n",
    "    \n",
    "    Args:\n",
    "        variables_dict (dict): A dictionary with string values that need to be transformed.\n",
    "\n",
    "    Returns:\n",
    "        list: A list of tuples, where each tuple contains the original string and its transformed camelCase version.\n",
    "    \"\"\"\n",
    "    \n",
    "    vars_list = []\n",
    "    \n",
    "    for i in range(len(list(variables_dict.values()))):\n",
    "        string = list(variables_dict.values())[i].title().replace(\" \", \"\").replace(\"(\", \"\").replace(\")\", \"\").replace(\",\", \"\")\n",
    "        #print(string)\n",
    "        string = string[0].lower() + string[1:]\n",
    "        #print(string)\n",
    "        vars_list.append(string)\n",
    "    vars_tuples = [(name_1, name_2) for name_1, name_2 in zip(list(variables_dict.values()), vars_list)]\n",
    "    \n",
    "    return vars_list, vars_tuples"
   ]
  },
  {
   "cell_type": "code",
   "execution_count": 16,
   "id": "053fee9e-cf3e-4f3d-9e22-88f22f636229",
   "metadata": {},
   "outputs": [
    {
     "data": {
      "text/plain": [
       "['realLabourProductivityPerPersonEmployed',\n",
       " 'totalEmploymentWorkplaceBasedEmployedPersons',\n",
       " 'averageAnnualPopulation',\n",
       " 'gdpAtCurrentMarketPrices',\n",
       " 'compensationOfEmployeesAtCurrentPrices',\n",
       " 'currentTaxesOnIncomeAndWealth',\n",
       " 'grossFixedCapitalFormationAtCurrentPrices',\n",
       " 'capitalStockAtConstantPrices',\n",
       " 'earlyLeaversFromEducationAndTraining']"
      ]
     },
     "execution_count": 16,
     "metadata": {},
     "output_type": "execute_result"
    }
   ],
   "source": [
    "vars_list, vars_tuples = make_readable_stings(variables_dict)\n",
    "vars_list"
   ]
  },
  {
   "cell_type": "code",
   "execution_count": 17,
   "id": "a2d15e2e-fdbd-439f-9d9e-7209852c15f9",
   "metadata": {},
   "outputs": [
    {
     "data": {
      "text/plain": [
       "[('Real labour productivity per person employed',\n",
       "  'realLabourProductivityPerPersonEmployed'),\n",
       " ('Total Employment (workplace based, employed persons)',\n",
       "  'totalEmploymentWorkplaceBasedEmployedPersons'),\n",
       " ('Average annual population', 'averageAnnualPopulation'),\n",
       " ('GDP at current market prices', 'gdpAtCurrentMarketPrices'),\n",
       " ('Compensation of employees at current prices',\n",
       "  'compensationOfEmployeesAtCurrentPrices'),\n",
       " ('Current taxes on income and wealth', 'currentTaxesOnIncomeAndWealth'),\n",
       " ('Gross Fixed Capital Formation at current prices',\n",
       "  'grossFixedCapitalFormationAtCurrentPrices'),\n",
       " ('Capital Stock at constant prices', 'capitalStockAtConstantPrices'),\n",
       " ('Early leavers from education and training',\n",
       "  'earlyLeaversFromEducationAndTraining')]"
      ]
     },
     "execution_count": 17,
     "metadata": {},
     "output_type": "execute_result"
    }
   ],
   "source": [
    "vars_tuples"
   ]
  },
  {
   "cell_type": "code",
   "execution_count": 18,
   "id": "5e07dc18-5d91-4f38-8acb-6cbee54a89dd",
   "metadata": {},
   "outputs": [
    {
     "data": {
      "text/plain": [
       "dict_keys(['SOVGDE', 'SNETD', 'SNPTD', 'SUVGD', 'RUWCD', 'RUYNH', 'RUIGT', 'ROKND', 'RPDNN'])"
      ]
     },
     "execution_count": 18,
     "metadata": {},
     "output_type": "execute_result"
    }
   ],
   "source": [
    "variables_dict.keys()"
   ]
  },
  {
   "cell_type": "code",
   "execution_count": 19,
   "id": "293cbe76-76b5-489e-a5d3-2c6e03ac0e55",
   "metadata": {},
   "outputs": [],
   "source": [
    "variables_dictionary = {k:v for (k, v) in zip(variables_dict.keys(), vars_list)}"
   ]
  },
  {
   "cell_type": "code",
   "execution_count": 20,
   "id": "9647005a-910d-44d7-b1d3-61571c23edf6",
   "metadata": {},
   "outputs": [
    {
     "data": {
      "text/plain": [
       "{'SOVGDE': 'realLabourProductivityPerPersonEmployed',\n",
       " 'SNETD': 'totalEmploymentWorkplaceBasedEmployedPersons',\n",
       " 'SNPTD': 'averageAnnualPopulation',\n",
       " 'SUVGD': 'gdpAtCurrentMarketPrices',\n",
       " 'RUWCD': 'compensationOfEmployeesAtCurrentPrices',\n",
       " 'RUYNH': 'currentTaxesOnIncomeAndWealth',\n",
       " 'RUIGT': 'grossFixedCapitalFormationAtCurrentPrices',\n",
       " 'ROKND': 'capitalStockAtConstantPrices',\n",
       " 'RPDNN': 'earlyLeaversFromEducationAndTraining'}"
      ]
     },
     "execution_count": 20,
     "metadata": {},
     "output_type": "execute_result"
    }
   ],
   "source": [
    "variables_dictionary"
   ]
  },
  {
   "cell_type": "code",
   "execution_count": 21,
   "id": "afc42da0-6762-454a-ba08-77e8fcc8208a",
   "metadata": {},
   "outputs": [],
   "source": [
    "# fixing initial data dataframe\n",
    "df = df.drop(index=['Unnamed: 0', 'Unnamed: 1', 'Unnamed: 2'])"
   ]
  },
  {
   "cell_type": "code",
   "execution_count": 22,
   "id": "1eacadb5-53ef-4526-844d-502a54fe13b4",
   "metadata": {},
   "outputs": [
    {
     "data": {
      "text/html": [
       "<div>\n",
       "<style scoped>\n",
       "    .dataframe tbody tr th:only-of-type {\n",
       "        vertical-align: middle;\n",
       "    }\n",
       "\n",
       "    .dataframe tbody tr th {\n",
       "        vertical-align: top;\n",
       "    }\n",
       "\n",
       "    .dataframe thead th {\n",
       "        text-align: right;\n",
       "    }\n",
       "</style>\n",
       "<table border=\"1\" class=\"dataframe\">\n",
       "  <thead>\n",
       "    <tr style=\"text-align: right;\">\n",
       "      <th></th>\n",
       "      <th>SOVGDE</th>\n",
       "      <th>SNETD</th>\n",
       "      <th>SNPTD</th>\n",
       "      <th>SUVGD</th>\n",
       "      <th>RUWCD</th>\n",
       "      <th>RUYNH</th>\n",
       "      <th>RUIGT</th>\n",
       "      <th>ROKND</th>\n",
       "      <th>RPDNN</th>\n",
       "    </tr>\n",
       "  </thead>\n",
       "  <tbody>\n",
       "    <tr>\n",
       "      <th>1980</th>\n",
       "      <td>52720.23</td>\n",
       "      <td>21493.0</td>\n",
       "      <td>56472720.0</td>\n",
       "      <td>341455.1</td>\n",
       "      <td>156060.1</td>\n",
       "      <td>61278.7</td>\n",
       "      <td>88494.3</td>\n",
       "      <td>3230559.0</td>\n",
       "      <td>NaN</td>\n",
       "    </tr>\n",
       "    <tr>\n",
       "      <th>1981</th>\n",
       "      <td>53048.03</td>\n",
       "      <td>21479.1</td>\n",
       "      <td>56540513.0</td>\n",
       "      <td>385319.7</td>\n",
       "      <td>178664.1</td>\n",
       "      <td>71302.5</td>\n",
       "      <td>100625.5</td>\n",
       "      <td>3342040.0</td>\n",
       "      <td>NaN</td>\n",
       "    </tr>\n",
       "    <tr>\n",
       "      <th>1982</th>\n",
       "      <td>53015.9</td>\n",
       "      <td>21525.6</td>\n",
       "      <td>56543548.0</td>\n",
       "      <td>434131.5</td>\n",
       "      <td>198557.0</td>\n",
       "      <td>88362.0</td>\n",
       "      <td>107278.3</td>\n",
       "      <td>3438693.0</td>\n",
       "      <td>NaN</td>\n",
       "    </tr>\n",
       "    <tr>\n",
       "      <th>1983</th>\n",
       "      <td>53330.18</td>\n",
       "      <td>21596.7</td>\n",
       "      <td>56564074.0</td>\n",
       "      <td>496161.4</td>\n",
       "      <td>223689.0</td>\n",
       "      <td>104323.6</td>\n",
       "      <td>116710.2</td>\n",
       "      <td>3527297.0</td>\n",
       "      <td>NaN</td>\n",
       "    </tr>\n",
       "    <tr>\n",
       "      <th>1984</th>\n",
       "      <td>54969.19</td>\n",
       "      <td>21584.0</td>\n",
       "      <td>56576718.0</td>\n",
       "      <td>554662.7</td>\n",
       "      <td>243842.6</td>\n",
       "      <td>119351.5</td>\n",
       "      <td>128981.8</td>\n",
       "      <td>3617799.0</td>\n",
       "      <td>NaN</td>\n",
       "    </tr>\n",
       "  </tbody>\n",
       "</table>\n",
       "</div>"
      ],
      "text/plain": [
       "        SOVGDE    SNETD       SNPTD     SUVGD     RUWCD     RUYNH     RUIGT  \\\n",
       "1980  52720.23  21493.0  56472720.0  341455.1  156060.1   61278.7   88494.3   \n",
       "1981  53048.03  21479.1  56540513.0  385319.7  178664.1   71302.5  100625.5   \n",
       "1982   53015.9  21525.6  56543548.0  434131.5  198557.0   88362.0  107278.3   \n",
       "1983  53330.18  21596.7  56564074.0  496161.4  223689.0  104323.6  116710.2   \n",
       "1984  54969.19  21584.0  56576718.0  554662.7  243842.6  119351.5  128981.8   \n",
       "\n",
       "          ROKND RPDNN  \n",
       "1980  3230559.0   NaN  \n",
       "1981  3342040.0   NaN  \n",
       "1982  3438693.0   NaN  \n",
       "1983  3527297.0   NaN  \n",
       "1984  3617799.0   NaN  "
      ]
     },
     "execution_count": 22,
     "metadata": {},
     "output_type": "execute_result"
    }
   ],
   "source": [
    "# check df\n",
    "df.head()"
   ]
  },
  {
   "cell_type": "code",
   "execution_count": 23,
   "id": "10a63b0a-e194-4cfd-b117-49bb626dfc5c",
   "metadata": {},
   "outputs": [],
   "source": [
    "df.columns = variables_dictionary.values()"
   ]
  },
  {
   "cell_type": "code",
   "execution_count": 24,
   "id": "713a4a74-3cfb-444a-af84-f4a656cd6750",
   "metadata": {},
   "outputs": [
    {
     "data": {
      "text/html": [
       "<div>\n",
       "<style scoped>\n",
       "    .dataframe tbody tr th:only-of-type {\n",
       "        vertical-align: middle;\n",
       "    }\n",
       "\n",
       "    .dataframe tbody tr th {\n",
       "        vertical-align: top;\n",
       "    }\n",
       "\n",
       "    .dataframe thead th {\n",
       "        text-align: right;\n",
       "    }\n",
       "</style>\n",
       "<table border=\"1\" class=\"dataframe\">\n",
       "  <thead>\n",
       "    <tr style=\"text-align: right;\">\n",
       "      <th></th>\n",
       "      <th>realLabourProductivityPerPersonEmployed</th>\n",
       "      <th>totalEmploymentWorkplaceBasedEmployedPersons</th>\n",
       "      <th>averageAnnualPopulation</th>\n",
       "      <th>gdpAtCurrentMarketPrices</th>\n",
       "      <th>compensationOfEmployeesAtCurrentPrices</th>\n",
       "      <th>currentTaxesOnIncomeAndWealth</th>\n",
       "      <th>grossFixedCapitalFormationAtCurrentPrices</th>\n",
       "      <th>capitalStockAtConstantPrices</th>\n",
       "      <th>earlyLeaversFromEducationAndTraining</th>\n",
       "    </tr>\n",
       "  </thead>\n",
       "  <tbody>\n",
       "    <tr>\n",
       "      <th>1980</th>\n",
       "      <td>52720.23</td>\n",
       "      <td>21493.0</td>\n",
       "      <td>56472720.0</td>\n",
       "      <td>341455.1</td>\n",
       "      <td>156060.1</td>\n",
       "      <td>61278.7</td>\n",
       "      <td>88494.3</td>\n",
       "      <td>3230559.0</td>\n",
       "      <td>NaN</td>\n",
       "    </tr>\n",
       "    <tr>\n",
       "      <th>1981</th>\n",
       "      <td>53048.03</td>\n",
       "      <td>21479.1</td>\n",
       "      <td>56540513.0</td>\n",
       "      <td>385319.7</td>\n",
       "      <td>178664.1</td>\n",
       "      <td>71302.5</td>\n",
       "      <td>100625.5</td>\n",
       "      <td>3342040.0</td>\n",
       "      <td>NaN</td>\n",
       "    </tr>\n",
       "    <tr>\n",
       "      <th>1982</th>\n",
       "      <td>53015.9</td>\n",
       "      <td>21525.6</td>\n",
       "      <td>56543548.0</td>\n",
       "      <td>434131.5</td>\n",
       "      <td>198557.0</td>\n",
       "      <td>88362.0</td>\n",
       "      <td>107278.3</td>\n",
       "      <td>3438693.0</td>\n",
       "      <td>NaN</td>\n",
       "    </tr>\n",
       "    <tr>\n",
       "      <th>1983</th>\n",
       "      <td>53330.18</td>\n",
       "      <td>21596.7</td>\n",
       "      <td>56564074.0</td>\n",
       "      <td>496161.4</td>\n",
       "      <td>223689.0</td>\n",
       "      <td>104323.6</td>\n",
       "      <td>116710.2</td>\n",
       "      <td>3527297.0</td>\n",
       "      <td>NaN</td>\n",
       "    </tr>\n",
       "    <tr>\n",
       "      <th>1984</th>\n",
       "      <td>54969.19</td>\n",
       "      <td>21584.0</td>\n",
       "      <td>56576718.0</td>\n",
       "      <td>554662.7</td>\n",
       "      <td>243842.6</td>\n",
       "      <td>119351.5</td>\n",
       "      <td>128981.8</td>\n",
       "      <td>3617799.0</td>\n",
       "      <td>NaN</td>\n",
       "    </tr>\n",
       "  </tbody>\n",
       "</table>\n",
       "</div>"
      ],
      "text/plain": [
       "     realLabourProductivityPerPersonEmployed  \\\n",
       "1980                                52720.23   \n",
       "1981                                53048.03   \n",
       "1982                                 53015.9   \n",
       "1983                                53330.18   \n",
       "1984                                54969.19   \n",
       "\n",
       "     totalEmploymentWorkplaceBasedEmployedPersons averageAnnualPopulation  \\\n",
       "1980                                      21493.0              56472720.0   \n",
       "1981                                      21479.1              56540513.0   \n",
       "1982                                      21525.6              56543548.0   \n",
       "1983                                      21596.7              56564074.0   \n",
       "1984                                      21584.0              56576718.0   \n",
       "\n",
       "     gdpAtCurrentMarketPrices compensationOfEmployeesAtCurrentPrices  \\\n",
       "1980                 341455.1                               156060.1   \n",
       "1981                 385319.7                               178664.1   \n",
       "1982                 434131.5                               198557.0   \n",
       "1983                 496161.4                               223689.0   \n",
       "1984                 554662.7                               243842.6   \n",
       "\n",
       "     currentTaxesOnIncomeAndWealth grossFixedCapitalFormationAtCurrentPrices  \\\n",
       "1980                       61278.7                                   88494.3   \n",
       "1981                       71302.5                                  100625.5   \n",
       "1982                       88362.0                                  107278.3   \n",
       "1983                      104323.6                                  116710.2   \n",
       "1984                      119351.5                                  128981.8   \n",
       "\n",
       "     capitalStockAtConstantPrices earlyLeaversFromEducationAndTraining  \n",
       "1980                    3230559.0                                  NaN  \n",
       "1981                    3342040.0                                  NaN  \n",
       "1982                    3438693.0                                  NaN  \n",
       "1983                    3527297.0                                  NaN  \n",
       "1984                    3617799.0                                  NaN  "
      ]
     },
     "execution_count": 24,
     "metadata": {},
     "output_type": "execute_result"
    }
   ],
   "source": [
    "df.head()"
   ]
  },
  {
   "cell_type": "code",
   "execution_count": 25,
   "id": "b96b5e01-47ad-4d7c-920f-651e3a49a02c",
   "metadata": {},
   "outputs": [],
   "source": [
    "# fixing dataframe datatype\n",
    "for i in df.columns:\n",
    "    df[i] = pd.to_numeric(df[i], errors='coerce')"
   ]
  },
  {
   "cell_type": "code",
   "execution_count": 26,
   "id": "df93351e-3ebb-473f-8477-2104bf7bb370",
   "metadata": {},
   "outputs": [
    {
     "name": "stdout",
     "output_type": "stream",
     "text": [
      "File saved to C:\\Users\\chpol\\Documents\\Stata\\econometrics\\data.dta\n",
      "File saved to C:\\Users\\chpol\\Documents\\Stata\\econometrics\\data.csv\n"
     ]
    },
    {
     "name": "stderr",
     "output_type": "stream",
     "text": [
      "C:\\Users\\chpol\\AppData\\Local\\Temp\\ipykernel_16108\\3221735947.py:5: InvalidColumnName: \n",
      "Not all pandas column names were valid Stata variable names.\n",
      "The following replacements have been made:\n",
      "\n",
      "    realLabourProductivityPerPersonEmployed   ->   realLabourProductivityPerPersonE\n",
      "    totalEmploymentWorkplaceBasedEmployedPersons   ->   totalEmploymentWorkplaceBasedEmp\n",
      "    compensationOfEmployeesAtCurrentPrices   ->   compensationOfEmployeesAtCurrent\n",
      "    grossFixedCapitalFormationAtCurrentPrices   ->   grossFixedCapitalFormationAtCurr\n",
      "    earlyLeaversFromEducationAndTraining   ->   earlyLeaversFromEducationAndTrai\n",
      "\n",
      "If this is not what you expect, please make sure you have Stata-compliant\n",
      "column names in your DataFrame (strings only, max 32 characters, only\n",
      "alphanumerics and underscores, no Stata reserved words)\n",
      "\n",
      "  df.to_stata(current_directory + \"\\\\data.dta\")\n"
     ]
    }
   ],
   "source": [
    "import os\n",
    "# Check if the file already exists\n",
    "if not os.path.exists(current_directory + \"\\\\data.dta\"):\n",
    "    # If the file doesn't exist, save the DataFrame to Stata\n",
    "    df.to_stata(current_directory + \"\\\\data.dta\")\n",
    "    print(f\"File saved to {current_directory + \"\\\\data.dta\"}\")\n",
    "else:\n",
    "    print(f\"The file {current_directory + \"\\\\data.dta\"} already exists. Skipping save.\")\n",
    "\n",
    "if not os.path.exists(current_directory + \"\\\\data.csv\"):\n",
    "    # If the file doesn't exist, save the DataFrame to Stata\n",
    "    df.to_csv(current_directory + \"\\\\data.csv\")\n",
    "    print(f\"File saved to {current_directory + \"\\\\data.csv\"}\")\n",
    "else:\n",
    "    print(f\"The file {current_directory + \"\\\\data.csv\"} already exists. Skipping save.\")"
   ]
  },
  {
   "cell_type": "markdown",
   "id": "b8d0d078-5358-4696-8119-c30e0ac9e50e",
   "metadata": {},
   "source": [
    "Checking if stata works correctly by running the example offered in [Basic usage](https://www.stata.com/python/pystata18/notebook/Example1.html) for configuration of Jupyter with Stata."
   ]
  },
  {
   "cell_type": "code",
   "execution_count": 27,
   "id": "bd3d58ae-54fd-4e38-b8e5-a3aa44e061e9",
   "metadata": {},
   "outputs": [
    {
     "name": "stdout",
     "output_type": "stream",
     "text": [
      "\n",
      ". use https://www.stata-press.com/data/r18/lutkepohl2\n",
      "(Quarterly SA West German macro data, Bil DM, from Lutkepohl 1993 Table E.1)\n",
      "\n",
      ". describe\n",
      "\n",
      "Contains data from https://www.stata-press.com/data/r18/lutkepohl2.dta\n",
      " Observations:            92                  Quarterly SA West German macro\n",
      "                                                data, Bil DM, from Lutkepohl\n",
      "                                                1993 Table E.1\n",
      "    Variables:            10                  4 Dec 2022 14:31\n",
      "-------------------------------------------------------------------------------\n",
      "Variable      Storage   Display    Value\n",
      "    name         type    format    label      Variable label\n",
      "-------------------------------------------------------------------------------\n",
      "inv             int     %8.0g                 Investment\n",
      "inc             int     %8.0g                 Income\n",
      "consump         int     %8.0g                 Consumption\n",
      "qtr             byte    %tq                   Quarter\n",
      "ln_inv          float   %9.0g                 Log investment\n",
      "dln_inv         float   %9.0g                 First-difference of ln_inv\n",
      "ln_inc          float   %9.0g                 Log income\n",
      "dln_inc         float   %9.0g                 First-difference of ln_inc\n",
      "ln_consump      float   %9.0g                 Log consumption\n",
      "dln_consump     float   %9.0g                 First-difference of ln_consump\n",
      "-------------------------------------------------------------------------------\n",
      "Sorted by: qtr\n",
      "\n",
      ". tsset\n",
      "\n",
      "Time variable: qtr, 1960q1 to 1982q4\n",
      "        Delta: 1 quarter\n",
      "\n",
      ". \n"
     ]
    }
   ],
   "source": [
    "%%stata\n",
    "use https://www.stata-press.com/data/r18/lutkepohl2\n",
    "describe\n",
    "tsset"
   ]
  }
 ],
 "metadata": {
  "kernelspec": {
   "display_name": "Python 3 (ipykernel)",
   "language": "python",
   "name": "python3"
  },
  "language_info": {
   "codemirror_mode": {
    "name": "ipython",
    "version": 3
   },
   "file_extension": ".py",
   "mimetype": "text/x-python",
   "name": "python",
   "nbconvert_exporter": "python",
   "pygments_lexer": "ipython3",
   "version": "3.13.2"
  }
 },
 "nbformat": 4,
 "nbformat_minor": 5
}
