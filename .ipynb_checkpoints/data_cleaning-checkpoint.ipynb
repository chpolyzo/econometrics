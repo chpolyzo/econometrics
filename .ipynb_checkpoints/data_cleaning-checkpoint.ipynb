{
 "cells": [
  {
   "cell_type": "code",
   "execution_count": 1,
   "id": "ac00e604-900c-4ffa-ad34-198974887cff",
   "metadata": {},
   "outputs": [
    {
     "name": "stdout",
     "output_type": "stream",
     "text": [
      "\n",
      "  ___  ____  ____  ____  ____ ®\n",
      " /__    /   ____/   /   ____/      18.0\n",
      "___/   /   /___/   /   /___/       BE—Basic Edition\n",
      "\n",
      " Statistics and Data Science       Copyright 1985-2023 StataCorp LLC\n",
      "                                   StataCorp\n",
      "                                   4905 Lakeway Drive\n",
      "                                   College Station, Texas 77845 USA\n",
      "                                   800-STATA-PC        https://www.stata.com\n",
      "                                   979-696-4600        stata@stata.com\n",
      "\n",
      "Stata license: Unlimited-user network, expiring  4 May 2025\n",
      "Serial number: 501809301547\n",
      "  Licensed to: Chrysanthi Polyzoni\n",
      "               Università Milano Bicocca\n",
      "\n",
      "Notes:\n",
      "      1. Unicode is supported; see help unicode_advice.\n"
     ]
    }
   ],
   "source": [
    "# import necessary libraries\n",
    "import os\n",
    "import sklearn as scikit_learn\n",
    "import pandas as pd\n",
    "import matplotlib.pyplot as plt\n",
    "import stata_setup\n",
    "stata_setup.config(\"C:/Program Files/Stata18\", 'be') # Path to the STATA executable\n",
    "from pystata import stata\n",
    "import statsmodels.formula.api as sm"
   ]
  },
  {
   "cell_type": "code",
   "execution_count": 2,
   "id": "a5056764-0598-45b4-96aa-59f25b2ae92d",
   "metadata": {},
   "outputs": [
    {
     "name": "stdout",
     "output_type": "stream",
     "text": [
      "The current working directory is: C:\\Users\\chpol\\documents\\Stata\\econometrics\n"
     ]
    }
   ],
   "source": [
    "# Get the current working directory\n",
    "current_directory = os.getcwd()\n",
    "print(f\"The current working directory is: {current_directory}\")"
   ]
  },
  {
   "cell_type": "code",
   "execution_count": 3,
   "id": "84c5a388-b4e5-44fe-afae-bdc632ddae5a",
   "metadata": {},
   "outputs": [],
   "source": [
    "# read and transpose data from existing file\n",
    "df = pd.read_csv('raw_data.csv').T"
   ]
  },
  {
   "cell_type": "code",
   "execution_count": 4,
   "id": "41e9d8f9-3dc2-460a-b386-36c59fd5467f",
   "metadata": {},
   "outputs": [],
   "source": [
    "# set column names\n",
    "df.columns = ['SOVGDE', 'SNETD', 'SNPTD', 'SUVGD', 'RUWCD', 'RUYNH', 'RUIGT',\n",
    "       'ROKND', 'RPDNN']"
   ]
  },
  {
   "cell_type": "code",
   "execution_count": 5,
   "id": "d1413aed-03b8-4dd6-83a0-5c0d4a31f726",
   "metadata": {},
   "outputs": [
    {
     "data": {
      "text/plain": [
       "Index(['SOVGDE', 'SNETD', 'SNPTD', 'SUVGD', 'RUWCD', 'RUYNH', 'RUIGT', 'ROKND',\n",
       "       'RPDNN'],\n",
       "      dtype='object')"
      ]
     },
     "execution_count": 5,
     "metadata": {},
     "output_type": "execute_result"
    }
   ],
   "source": [
    "# check column names\n",
    "df.columns"
   ]
  },
  {
   "cell_type": "code",
   "execution_count": 6,
   "id": "3517e767-6cdb-4f38-a4ca-6a03e86afcfa",
   "metadata": {},
   "outputs": [
    {
     "data": {
      "text/html": [
       "<div>\n",
       "<style scoped>\n",
       "    .dataframe tbody tr th:only-of-type {\n",
       "        vertical-align: middle;\n",
       "    }\n",
       "\n",
       "    .dataframe tbody tr th {\n",
       "        vertical-align: top;\n",
       "    }\n",
       "\n",
       "    .dataframe thead th {\n",
       "        text-align: right;\n",
       "    }\n",
       "</style>\n",
       "<table border=\"1\" class=\"dataframe\">\n",
       "  <thead>\n",
       "    <tr style=\"text-align: right;\">\n",
       "      <th></th>\n",
       "      <th>SOVGDE</th>\n",
       "      <th>SNETD</th>\n",
       "      <th>SNPTD</th>\n",
       "      <th>SUVGD</th>\n",
       "      <th>RUWCD</th>\n",
       "      <th>RUYNH</th>\n",
       "      <th>RUIGT</th>\n",
       "      <th>ROKND</th>\n",
       "      <th>RPDNN</th>\n",
       "    </tr>\n",
       "  </thead>\n",
       "  <tbody>\n",
       "    <tr>\n",
       "      <th>Unnamed: 1</th>\n",
       "      <td>Real labour productivity per person employed</td>\n",
       "      <td>Total Employment (workplace based, employed pe...</td>\n",
       "      <td>Average annual population</td>\n",
       "      <td>\\tGDP at current market prices</td>\n",
       "      <td>Compensation of employees at current prices</td>\n",
       "      <td>Current taxes on income and wealth</td>\n",
       "      <td>Gross Fixed Capital Formation at current prices</td>\n",
       "      <td>Capital Stock at constant prices</td>\n",
       "      <td>Early leavers from education and training</td>\n",
       "    </tr>\n",
       "  </tbody>\n",
       "</table>\n",
       "</div>"
      ],
      "text/plain": [
       "                                                  SOVGDE  \\\n",
       "Unnamed: 1  Real labour productivity per person employed   \n",
       "\n",
       "                                                        SNETD  \\\n",
       "Unnamed: 1  Total Employment (workplace based, employed pe...   \n",
       "\n",
       "                                SNPTD                           SUVGD  \\\n",
       "Unnamed: 1  Average annual population  \\tGDP at current market prices   \n",
       "\n",
       "                                                  RUWCD  \\\n",
       "Unnamed: 1  Compensation of employees at current prices   \n",
       "\n",
       "                                         RUYNH  \\\n",
       "Unnamed: 1  Current taxes on income and wealth   \n",
       "\n",
       "                                                      RUIGT  \\\n",
       "Unnamed: 1  Gross Fixed Capital Formation at current prices   \n",
       "\n",
       "                                       ROKND  \\\n",
       "Unnamed: 1  Capital Stock at constant prices   \n",
       "\n",
       "                                                RPDNN  \n",
       "Unnamed: 1  Early leavers from education and training  "
      ]
     },
     "execution_count": 6,
     "metadata": {},
     "output_type": "execute_result"
    }
   ],
   "source": [
    "# explore first line which explains variables\n",
    "df[df.index == 'Unnamed: 1']"
   ]
  },
  {
   "cell_type": "code",
   "execution_count": 7,
   "id": "12fc85ab-d4fd-4936-840f-460433e3e608",
   "metadata": {},
   "outputs": [
    {
     "data": {
      "text/plain": [
       "'\\tGDP at current market prices'"
      ]
     },
     "execution_count": 7,
     "metadata": {},
     "output_type": "execute_result"
    }
   ],
   "source": [
    "# Check further SUVDG variable name explanation\n",
    "df[df.index == 'Unnamed: 1']._get_value('Unnamed: 1', 'SUVGD')\n"
   ]
  },
  {
   "cell_type": "code",
   "execution_count": 8,
   "id": "894cc78c-7f21-44f8-871b-48c975f82e19",
   "metadata": {},
   "outputs": [],
   "source": [
    "# replace SUVDG variable name explanation and create a new dataframe namely variables_df holding variable information\n",
    "variables_df = df[df.index == 'Unnamed: 1'].replace('\\tGDP at current market prices', 'GDP at current market prices')"
   ]
  },
  {
   "cell_type": "code",
   "execution_count": 9,
   "id": "0e7fc0eb-fa22-4b7c-8b90-9517f3090094",
   "metadata": {},
   "outputs": [
    {
     "data": {
      "text/html": [
       "<div>\n",
       "<style scoped>\n",
       "    .dataframe tbody tr th:only-of-type {\n",
       "        vertical-align: middle;\n",
       "    }\n",
       "\n",
       "    .dataframe tbody tr th {\n",
       "        vertical-align: top;\n",
       "    }\n",
       "\n",
       "    .dataframe thead th {\n",
       "        text-align: right;\n",
       "    }\n",
       "</style>\n",
       "<table border=\"1\" class=\"dataframe\">\n",
       "  <thead>\n",
       "    <tr style=\"text-align: right;\">\n",
       "      <th></th>\n",
       "      <th>SOVGDE</th>\n",
       "      <th>SNETD</th>\n",
       "      <th>SNPTD</th>\n",
       "      <th>SUVGD</th>\n",
       "      <th>RUWCD</th>\n",
       "      <th>RUYNH</th>\n",
       "      <th>RUIGT</th>\n",
       "      <th>ROKND</th>\n",
       "      <th>RPDNN</th>\n",
       "    </tr>\n",
       "  </thead>\n",
       "  <tbody>\n",
       "    <tr>\n",
       "      <th>Unnamed: 1</th>\n",
       "      <td>Real labour productivity per person employed</td>\n",
       "      <td>Total Employment (workplace based, employed pe...</td>\n",
       "      <td>Average annual population</td>\n",
       "      <td>GDP at current market prices</td>\n",
       "      <td>Compensation of employees at current prices</td>\n",
       "      <td>Current taxes on income and wealth</td>\n",
       "      <td>Gross Fixed Capital Formation at current prices</td>\n",
       "      <td>Capital Stock at constant prices</td>\n",
       "      <td>Early leavers from education and training</td>\n",
       "    </tr>\n",
       "  </tbody>\n",
       "</table>\n",
       "</div>"
      ],
      "text/plain": [
       "                                                  SOVGDE  \\\n",
       "Unnamed: 1  Real labour productivity per person employed   \n",
       "\n",
       "                                                        SNETD  \\\n",
       "Unnamed: 1  Total Employment (workplace based, employed pe...   \n",
       "\n",
       "                                SNPTD                         SUVGD  \\\n",
       "Unnamed: 1  Average annual population  GDP at current market prices   \n",
       "\n",
       "                                                  RUWCD  \\\n",
       "Unnamed: 1  Compensation of employees at current prices   \n",
       "\n",
       "                                         RUYNH  \\\n",
       "Unnamed: 1  Current taxes on income and wealth   \n",
       "\n",
       "                                                      RUIGT  \\\n",
       "Unnamed: 1  Gross Fixed Capital Formation at current prices   \n",
       "\n",
       "                                       ROKND  \\\n",
       "Unnamed: 1  Capital Stock at constant prices   \n",
       "\n",
       "                                                RPDNN  \n",
       "Unnamed: 1  Early leavers from education and training  "
      ]
     },
     "execution_count": 9,
     "metadata": {},
     "output_type": "execute_result"
    }
   ],
   "source": [
    "# check variables_df\n",
    "variables_df"
   ]
  },
  {
   "cell_type": "code",
   "execution_count": 10,
   "id": "7fb229bd-3fde-417f-8722-7d9d6448c6b4",
   "metadata": {},
   "outputs": [
    {
     "name": "stdout",
     "output_type": "stream",
     "text": [
      "Index(['SOVGDE', 'SNETD', 'SNPTD', 'SUVGD', 'RUWCD', 'RUYNH', 'RUIGT', 'ROKND',\n",
      "       'RPDNN'],\n",
      "      dtype='object')\n",
      "[['Real labour productivity per person employed'\n",
      "  'Total Employment (workplace based, employed persons)'\n",
      "  'Average annual population' 'GDP at current market prices'\n",
      "  'Compensation of employees at current prices'\n",
      "  'Current taxes on income and wealth'\n",
      "  'Gross Fixed Capital Formation at current prices'\n",
      "  'Capital Stock at constant prices'\n",
      "  'Early leavers from education and training']]\n"
     ]
    }
   ],
   "source": [
    "# checking columns and values\n",
    "print(variables_df.columns) # columns\n",
    "print(variables_df[variables_df.index == 'Unnamed: 1'].values) # values"
   ]
  },
  {
   "cell_type": "code",
   "execution_count": 11,
   "id": "dd1ddd6b-12d1-4147-bb2a-1bbc48a39bcd",
   "metadata": {},
   "outputs": [
    {
     "data": {
      "text/plain": [
       "array(['Real labour productivity per person employed',\n",
       "       'Total Employment (workplace based, employed persons)',\n",
       "       'Average annual population', 'GDP at current market prices',\n",
       "       'Compensation of employees at current prices',\n",
       "       'Current taxes on income and wealth',\n",
       "       'Gross Fixed Capital Formation at current prices',\n",
       "       'Capital Stock at constant prices',\n",
       "       'Early leavers from education and training'], dtype=object)"
      ]
     },
     "execution_count": 11,
     "metadata": {},
     "output_type": "execute_result"
    }
   ],
   "source": [
    "# extracting values\n",
    "variables_df[variables_df.index == 'Unnamed: 1'].values[0]"
   ]
  },
  {
   "cell_type": "code",
   "execution_count": 12,
   "id": "2ca26856-36d9-4fb4-818f-659495e20649",
   "metadata": {},
   "outputs": [],
   "source": [
    "# create a variables explanatory dictionary\n",
    "variables_dict = {k:v for (k, v) in zip(variables_df.columns, variables_df[variables_df.index == 'Unnamed: 1'].values[0])}"
   ]
  },
  {
   "cell_type": "code",
   "execution_count": 53,
   "id": "0262a240-5ac5-4268-ab41-347e3a51a6d9",
   "metadata": {},
   "outputs": [
    {
     "data": {
      "text/plain": [
       "{'SOVGDE': 'Real labour productivity per person employed',\n",
       " 'SNETD': 'Total Employment (workplace based, employed persons)',\n",
       " 'SNPTD': 'Average annual population',\n",
       " 'SUVGD': 'GDP at current market prices',\n",
       " 'RUWCD': 'Compensation of employees at current prices',\n",
       " 'RUYNH': 'Current taxes on income and wealth',\n",
       " 'RUIGT': 'Gross Fixed Capital Formation at current prices',\n",
       " 'ROKND': 'Capital Stock at constant prices',\n",
       " 'RPDNN': 'Early leavers from education and training'}"
      ]
     },
     "execution_count": 53,
     "metadata": {},
     "output_type": "execute_result"
    }
   ],
   "source": [
    "# check variables dictionary\n",
    "variables_dict"
   ]
  },
  {
   "cell_type": "code",
   "execution_count": 60,
   "id": "46983c74-6630-44cc-848b-8b971fca6b99",
   "metadata": {},
   "outputs": [
    {
     "data": {
      "text/plain": [
       "['Real labour productivity per person employed',\n",
       " 'Total Employment (workplace based, employed persons)',\n",
       " 'Average annual population',\n",
       " 'GDP at current market prices',\n",
       " 'Compensation of employees at current prices',\n",
       " 'Current taxes on income and wealth',\n",
       " 'Gross Fixed Capital Formation at current prices',\n",
       " 'Capital Stock at constant prices',\n",
       " 'Early leavers from education and training']"
      ]
     },
     "execution_count": 60,
     "metadata": {},
     "output_type": "execute_result"
    }
   ],
   "source": [
    "list(variables_dict.values())"
   ]
  },
  {
   "cell_type": "code",
   "execution_count": 65,
   "id": "a86c9d75-8ecb-4803-8baa-64a38a35580f",
   "metadata": {},
   "outputs": [],
   "source": [
    "string = list(variables_dict.values())[0].title().replace(\" \", \"\")\n",
    "string = string[0].lower() + string[1:]"
   ]
  },
  {
   "cell_type": "code",
   "execution_count": 66,
   "id": "a90dbd12-a803-4cec-a2bb-dc4eea15800d",
   "metadata": {},
   "outputs": [
    {
     "data": {
      "text/plain": [
       "'realLabourProductivityPerPersonEmployed'"
      ]
     },
     "execution_count": 66,
     "metadata": {},
     "output_type": "execute_result"
    }
   ],
   "source": [
    "string"
   ]
  },
  {
   "cell_type": "code",
   "execution_count": 78,
   "id": "ee50dad6-b817-4808-8746-9e2d95271d9e",
   "metadata": {},
   "outputs": [
    {
     "name": "stdout",
     "output_type": "stream",
     "text": [
      "realLabourProductivityPerPersonEmployed\n",
      "totalEmploymentWorkplaceBasedEmployedPersons\n",
      "averageAnnualPopulation\n",
      "gdpAtCurrentMarketPrices\n",
      "compensationOfEmployeesAtCurrentPrices\n",
      "currentTaxesOnIncomeAndWealth\n",
      "grossFixedCapitalFormationAtCurrentPrices\n",
      "capitalStockAtConstantPrices\n",
      "earlyLeaversFromEducationAndTraining\n"
     ]
    }
   ],
   "source": [
    "for i in range(len(list(variables_dict.values()))):\n",
    "    string = list(variables_dict.values())[i].title().replace(\" \", \"\").replace(\"(\", \"\").replace(\")\", \"\").replace(\",\", \"\")\n",
    "    string = string[0].lower() + string[1:]\n",
    "    print(string)"
   ]
  },
  {
   "cell_type": "code",
   "execution_count": 14,
   "id": "afc42da0-6762-454a-ba08-77e8fcc8208a",
   "metadata": {},
   "outputs": [],
   "source": [
    "# fixing initial data dataframe\n",
    "df = df.drop(index=['Unnamed: 0', 'Unnamed: 1', 'Unnamed: 2'])"
   ]
  },
  {
   "cell_type": "code",
   "execution_count": 15,
   "id": "1eacadb5-53ef-4526-844d-502a54fe13b4",
   "metadata": {},
   "outputs": [
    {
     "data": {
      "text/html": [
       "<div>\n",
       "<style scoped>\n",
       "    .dataframe tbody tr th:only-of-type {\n",
       "        vertical-align: middle;\n",
       "    }\n",
       "\n",
       "    .dataframe tbody tr th {\n",
       "        vertical-align: top;\n",
       "    }\n",
       "\n",
       "    .dataframe thead th {\n",
       "        text-align: right;\n",
       "    }\n",
       "</style>\n",
       "<table border=\"1\" class=\"dataframe\">\n",
       "  <thead>\n",
       "    <tr style=\"text-align: right;\">\n",
       "      <th></th>\n",
       "      <th>SOVGDE</th>\n",
       "      <th>SNETD</th>\n",
       "      <th>SNPTD</th>\n",
       "      <th>SUVGD</th>\n",
       "      <th>RUWCD</th>\n",
       "      <th>RUYNH</th>\n",
       "      <th>RUIGT</th>\n",
       "      <th>ROKND</th>\n",
       "      <th>RPDNN</th>\n",
       "    </tr>\n",
       "  </thead>\n",
       "  <tbody>\n",
       "    <tr>\n",
       "      <th>1980</th>\n",
       "      <td>52720.23</td>\n",
       "      <td>21493.0</td>\n",
       "      <td>56472720.0</td>\n",
       "      <td>341455.1</td>\n",
       "      <td>156060.1</td>\n",
       "      <td>61278.7</td>\n",
       "      <td>88494.3</td>\n",
       "      <td>3230559.0</td>\n",
       "      <td>NaN</td>\n",
       "    </tr>\n",
       "    <tr>\n",
       "      <th>1981</th>\n",
       "      <td>53048.03</td>\n",
       "      <td>21479.1</td>\n",
       "      <td>56540513.0</td>\n",
       "      <td>385319.7</td>\n",
       "      <td>178664.1</td>\n",
       "      <td>71302.5</td>\n",
       "      <td>100625.5</td>\n",
       "      <td>3342040.0</td>\n",
       "      <td>NaN</td>\n",
       "    </tr>\n",
       "    <tr>\n",
       "      <th>1982</th>\n",
       "      <td>53015.9</td>\n",
       "      <td>21525.6</td>\n",
       "      <td>56543548.0</td>\n",
       "      <td>434131.5</td>\n",
       "      <td>198557.0</td>\n",
       "      <td>88362.0</td>\n",
       "      <td>107278.3</td>\n",
       "      <td>3438693.0</td>\n",
       "      <td>NaN</td>\n",
       "    </tr>\n",
       "    <tr>\n",
       "      <th>1983</th>\n",
       "      <td>53330.18</td>\n",
       "      <td>21596.7</td>\n",
       "      <td>56564074.0</td>\n",
       "      <td>496161.4</td>\n",
       "      <td>223689.0</td>\n",
       "      <td>104323.6</td>\n",
       "      <td>116710.2</td>\n",
       "      <td>3527297.0</td>\n",
       "      <td>NaN</td>\n",
       "    </tr>\n",
       "    <tr>\n",
       "      <th>1984</th>\n",
       "      <td>54969.19</td>\n",
       "      <td>21584.0</td>\n",
       "      <td>56576718.0</td>\n",
       "      <td>554662.7</td>\n",
       "      <td>243842.6</td>\n",
       "      <td>119351.5</td>\n",
       "      <td>128981.8</td>\n",
       "      <td>3617799.0</td>\n",
       "      <td>NaN</td>\n",
       "    </tr>\n",
       "  </tbody>\n",
       "</table>\n",
       "</div>"
      ],
      "text/plain": [
       "        SOVGDE    SNETD       SNPTD     SUVGD     RUWCD     RUYNH     RUIGT  \\\n",
       "1980  52720.23  21493.0  56472720.0  341455.1  156060.1   61278.7   88494.3   \n",
       "1981  53048.03  21479.1  56540513.0  385319.7  178664.1   71302.5  100625.5   \n",
       "1982   53015.9  21525.6  56543548.0  434131.5  198557.0   88362.0  107278.3   \n",
       "1983  53330.18  21596.7  56564074.0  496161.4  223689.0  104323.6  116710.2   \n",
       "1984  54969.19  21584.0  56576718.0  554662.7  243842.6  119351.5  128981.8   \n",
       "\n",
       "          ROKND RPDNN  \n",
       "1980  3230559.0   NaN  \n",
       "1981  3342040.0   NaN  \n",
       "1982  3438693.0   NaN  \n",
       "1983  3527297.0   NaN  \n",
       "1984  3617799.0   NaN  "
      ]
     },
     "execution_count": 15,
     "metadata": {},
     "output_type": "execute_result"
    }
   ],
   "source": [
    "# check df\n",
    "df.head()"
   ]
  },
  {
   "cell_type": "code",
   "execution_count": 16,
   "id": "b96b5e01-47ad-4d7c-920f-651e3a49a02c",
   "metadata": {},
   "outputs": [],
   "source": [
    "# fixing dataframe datatype\n",
    "for i in df.columns:\n",
    "    df[i] = pd.to_numeric(df[i], errors='coerce')"
   ]
  },
  {
   "cell_type": "code",
   "execution_count": 17,
   "id": "df93351e-3ebb-473f-8477-2104bf7bb370",
   "metadata": {},
   "outputs": [
    {
     "name": "stdout",
     "output_type": "stream",
     "text": [
      "The file C:\\Users\\chpol\\documents\\Stata\\econometrics\\data.dta already exists. Skipping save.\n",
      "The file C:\\Users\\chpol\\documents\\Stata\\econometrics\\data.csv already exists. Skipping save.\n"
     ]
    }
   ],
   "source": [
    "import os\n",
    "# Check if the file already exists\n",
    "if not os.path.exists(current_directory + \"\\\\data.dta\"):\n",
    "    # If the file doesn't exist, save the DataFrame to Stata\n",
    "    df.to_stata(current_directory + \"\\\\data.dta\")\n",
    "    print(f\"File saved to {current_directory + \"\\\\data.dta\"}\")\n",
    "else:\n",
    "    print(f\"The file {current_directory + \"\\\\data.dta\"} already exists. Skipping save.\")\n",
    "\n",
    "if not os.path.exists(current_directory + \"\\\\data.csv\"):\n",
    "    # If the file doesn't exist, save the DataFrame to Stata\n",
    "    df.to_csv(current_directory + \"\\\\data.csv\")\n",
    "    print(f\"File saved to {current_directory + \"\\\\data.csv\"}\")\n",
    "else:\n",
    "    print(f\"The file {current_directory + \"\\\\data.csv\"} already exists. Skipping save.\")"
   ]
  },
  {
   "cell_type": "markdown",
   "id": "b8d0d078-5358-4696-8119-c30e0ac9e50e",
   "metadata": {},
   "source": [
    "Checking if stata works correctly by running the example offered in [Basic usage](https://www.stata.com/python/pystata18/notebook/Example1.html) for configuration of Jupyter with Stata."
   ]
  },
  {
   "cell_type": "code",
   "execution_count": 18,
   "id": "bd3d58ae-54fd-4e38-b8e5-a3aa44e061e9",
   "metadata": {},
   "outputs": [
    {
     "name": "stdout",
     "output_type": "stream",
     "text": [
      "\n",
      ". use https://www.stata-press.com/data/r18/lutkepohl2\n",
      "(Quarterly SA West German macro data, Bil DM, from Lutkepohl 1993 Table E.1)\n",
      "\n",
      ". describe\n",
      "\n",
      "Contains data from https://www.stata-press.com/data/r18/lutkepohl2.dta\n",
      " Observations:            92                  Quarterly SA West German macro\n",
      "                                                data, Bil DM, from Lutkepohl\n",
      "                                                1993 Table E.1\n",
      "    Variables:            10                  4 Dec 2022 14:31\n",
      "-------------------------------------------------------------------------------\n",
      "Variable      Storage   Display    Value\n",
      "    name         type    format    label      Variable label\n",
      "-------------------------------------------------------------------------------\n",
      "inv             int     %8.0g                 Investment\n",
      "inc             int     %8.0g                 Income\n",
      "consump         int     %8.0g                 Consumption\n",
      "qtr             byte    %tq                   Quarter\n",
      "ln_inv          float   %9.0g                 Log investment\n",
      "dln_inv         float   %9.0g                 First-difference of ln_inv\n",
      "ln_inc          float   %9.0g                 Log income\n",
      "dln_inc         float   %9.0g                 First-difference of ln_inc\n",
      "ln_consump      float   %9.0g                 Log consumption\n",
      "dln_consump     float   %9.0g                 First-difference of ln_consump\n",
      "-------------------------------------------------------------------------------\n",
      "Sorted by: qtr\n",
      "\n",
      ". tsset\n",
      "\n",
      "Time variable: qtr, 1960q1 to 1982q4\n",
      "        Delta: 1 quarter\n",
      "\n",
      ". \n"
     ]
    }
   ],
   "source": [
    "%%stata\n",
    "use https://www.stata-press.com/data/r18/lutkepohl2\n",
    "describe\n",
    "tsset"
   ]
  }
 ],
 "metadata": {
  "kernelspec": {
   "display_name": "Python 3 (ipykernel)",
   "language": "python",
   "name": "python3"
  },
  "language_info": {
   "codemirror_mode": {
    "name": "ipython",
    "version": 3
   },
   "file_extension": ".py",
   "mimetype": "text/x-python",
   "name": "python",
   "nbconvert_exporter": "python",
   "pygments_lexer": "ipython3",
   "version": "3.13.2"
  }
 },
 "nbformat": 4,
 "nbformat_minor": 5
}
